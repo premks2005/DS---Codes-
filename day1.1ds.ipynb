{
 "cells": [
  {
   "cell_type": "code",
   "execution_count": 2,
   "id": "b874a734-a481-48b5-8a58-44b324abe110",
   "metadata": {},
   "outputs": [],
   "source": [
    "from array import array"
   ]
  },
  {
   "cell_type": "code",
   "execution_count": 3,
   "id": "0ee58076-3e22-4959-8687-ed38ef23b2cd",
   "metadata": {},
   "outputs": [],
   "source": [
    "def missing(n,arr):\n",
    "    act_sum=(n*(n+1))/2\n",
    "    print(\"Actual sum is \",act_sum)\n",
    "    gn_sum=sum(arr)\n",
    "    print(\"sum of the given array\",gn_sum)\n",
    "    print(act_sum-gn_sum)"
   ]
  },
  {
   "cell_type": "code",
   "execution_count": 4,
   "id": "f5de3db5-d61b-4985-aa22-a3c6f8b7732e",
   "metadata": {},
   "outputs": [
    {
     "name": "stdout",
     "output_type": "stream",
     "text": [
      "Actual sum is  21.0\n",
      "sum of the given array 19\n",
      "2.0\n"
     ]
    }
   ],
   "source": [
    "arr=array('i',[1,3,4,5,6])\n",
    "missing(6,arr)"
   ]
  },
  {
   "cell_type": "code",
   "execution_count": 5,
   "id": "e3ddaf1c-5f14-474c-a314-c5879870ece8",
   "metadata": {},
   "outputs": [],
   "source": [
    "def find(s,m):\n",
    "    gn_sum = sum(m)\n",
    "    return s - gn_sum"
   ]
  },
  {
   "cell_type": "code",
   "execution_count": 6,
   "id": "d949a927-966d-46c5-b7b3-3dc5c89e147a",
   "metadata": {},
   "outputs": [
    {
     "data": {
      "text/plain": [
       "10"
      ]
     },
     "execution_count": 6,
     "metadata": {},
     "output_type": "execute_result"
    }
   ],
   "source": [
    "myarr=array('i',[12,2,0])\n",
    "find(24,myarr)"
   ]
  },
  {
   "cell_type": "code",
   "execution_count": 9,
   "id": "cb0e9a41-68da-4e2d-a751-193df3805cf8",
   "metadata": {},
   "outputs": [],
   "source": [
    "arr=array('i',[10,15,15,20,20,25])"
   ]
  },
  {
   "cell_type": "code",
   "execution_count": 10,
   "id": "6b386bdf-0088-44cd-a855-02afbb1cccc6",
   "metadata": {},
   "outputs": [
    {
     "data": {
      "text/plain": [
       "[10, 15, 15, 20, 20, 25]"
      ]
     },
     "execution_count": 10,
     "metadata": {},
     "output_type": "execute_result"
    }
   ],
   "source": [
    "arr=sorted(arr)\n",
    "arr"
   ]
  },
  {
   "cell_type": "code",
   "execution_count": 12,
   "id": "6a56cd7e-9986-4dcf-a3f2-3ce90e9804ee",
   "metadata": {},
   "outputs": [
    {
     "data": {
      "text/plain": [
       "{10, 15, 20, 25}"
      ]
     },
     "execution_count": 12,
     "metadata": {},
     "output_type": "execute_result"
    }
   ],
   "source": [
    "arr=set(arr)\n",
    "arr"
   ]
  },
  {
   "cell_type": "code",
   "execution_count": null,
   "id": "3ac208c5-4cc2-49f1-8086-1b1b1e1dbc2c",
   "metadata": {},
   "outputs": [],
   "source": []
  }
 ],
 "metadata": {
  "kernelspec": {
   "display_name": "Python 3 (ipykernel)",
   "language": "python",
   "name": "python3"
  },
  "language_info": {
   "codemirror_mode": {
    "name": "ipython",
    "version": 3
   },
   "file_extension": ".py",
   "mimetype": "text/x-python",
   "name": "python",
   "nbconvert_exporter": "python",
   "pygments_lexer": "ipython3",
   "version": "3.11.7"
  }
 },
 "nbformat": 4,
 "nbformat_minor": 5
}
