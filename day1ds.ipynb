{
 "cells": [
  {
   "cell_type": "code",
   "execution_count": 1,
   "id": "26cf7e4e-4bc2-46ec-a85a-86b2d1dcc488",
   "metadata": {},
   "outputs": [
    {
     "name": "stdout",
     "output_type": "stream",
     "text": [
      "array('i', [3, 5, 7, 2, 3])\n",
      "<class 'array.array'>\n"
     ]
    }
   ],
   "source": [
    "from array import array\n",
    "arr=array('i',[3,5,7,2,3])\n",
    "print(arr)\n",
    "print(type(arr))"
   ]
  },
  {
   "cell_type": "code",
   "execution_count": 2,
   "id": "01b3ce8e-4f35-44fb-92b5-1ef4285a075e",
   "metadata": {},
   "outputs": [
    {
     "name": "stdout",
     "output_type": "stream",
     "text": [
      "array('i', [1, 2, 3, 4, 5])\n",
      "<class 'array.array'>\n"
     ]
    }
   ],
   "source": [
    "from array import array\n",
    "arr=array('i',[1,2,3,4,5])\n",
    "print(arr)\n",
    "print(type(arr))\n"
   ]
  },
  {
   "cell_type": "code",
   "execution_count": 3,
   "id": "8dad3f01-ea59-4fb9-933e-19135abe23f5",
   "metadata": {},
   "outputs": [
    {
     "name": "stdout",
     "output_type": "stream",
     "text": [
      "array('i', [1, 2, 9, 4, 5])\n"
     ]
    }
   ],
   "source": [
    "arr[2]\n",
    "arr[2]=9\n",
    "print(arr)\n"
   ]
  },
  {
   "cell_type": "code",
   "execution_count": 4,
   "id": "ffe38864-93bc-48fa-afbe-683d89ff6ffd",
   "metadata": {},
   "outputs": [
    {
     "name": "stdout",
     "output_type": "stream",
     "text": [
      "array('i', [1, 9, 4, 5])\n"
     ]
    }
   ],
   "source": [
    "del(arr[1])\n",
    "print(arr)\n",
    "\n"
   ]
  },
  {
   "cell_type": "code",
   "execution_count": 5,
   "id": "ecbf8f31-15ec-4757-826e-0271e7d7f416",
   "metadata": {},
   "outputs": [
    {
     "data": {
      "text/plain": [
       "array('i', [1, 9, 4, 5])"
      ]
     },
     "execution_count": 5,
     "metadata": {},
     "output_type": "execute_result"
    }
   ],
   "source": [
    "arr\n",
    "\n"
   ]
  },
  {
   "cell_type": "code",
   "execution_count": 6,
   "id": "eafdeef5-0bbb-4427-9a35-025fc0e61fb3",
   "metadata": {},
   "outputs": [
    {
     "name": "stdout",
     "output_type": "stream",
     "text": [
      "array('i', [1, 2, 3, 4, 5])\n"
     ]
    }
   ],
   "source": [
    "arr=array('i',[1,2,3,4,5])\n",
    "print(arr)\n",
    "\n"
   ]
  },
  {
   "cell_type": "code",
   "execution_count": 7,
   "id": "36cff0e0-6aaf-49b6-b91e-3c79734dff69",
   "metadata": {},
   "outputs": [
    {
     "name": "stdout",
     "output_type": "stream",
     "text": [
      "1\n",
      "2\n",
      "3\n",
      "4\n",
      "5\n"
     ]
    }
   ],
   "source": [
    "for i in arr:\n",
    "    print(i)"
   ]
  },
  {
   "cell_type": "code",
   "execution_count": 8,
   "id": "d548f006-8438-4455-8cfe-2fd9be36f259",
   "metadata": {},
   "outputs": [
    {
     "name": "stdout",
     "output_type": "stream",
     "text": [
      "3\n",
      "4\n",
      "5\n"
     ]
    }
   ],
   "source": [
    "for i in arr:\n",
    "    if(i>=3):\n",
    "        print(i)\n",
    "    "
   ]
  },
  {
   "cell_type": "code",
   "execution_count": 9,
   "id": "25a3a483-ed65-40a7-b1b9-f6319d6c376e",
   "metadata": {},
   "outputs": [
    {
     "name": "stdout",
     "output_type": "stream",
     "text": [
      "array('i', [1, 4, 2, 3, 5])\n"
     ]
    }
   ],
   "source": [
    "arr=array('i',[1,4,2,3,5])\n",
    "print(arr)"
   ]
  },
  {
   "cell_type": "code",
   "execution_count": 10,
   "id": "cbc1f8b8-4523-4ebf-a35e-06bbeb451f0d",
   "metadata": {},
   "outputs": [
    {
     "data": {
      "text/plain": [
       "array('i', [1, 4, 2, 3, 5])"
      ]
     },
     "execution_count": 10,
     "metadata": {},
     "output_type": "execute_result"
    }
   ],
   "source": [
    "sorted(arr)\n",
    "arr"
   ]
  },
  {
   "cell_type": "code",
   "execution_count": 11,
   "id": "d8765939-eca3-4566-a8f9-fc13948d66a3",
   "metadata": {},
   "outputs": [],
   "source": [
    "arr=array('i',[1,4,2,3,5])"
   ]
  },
  {
   "cell_type": "markdown",
   "id": "081901be-daad-49f6-8686-6ca6d25b89e2",
   "metadata": {},
   "source": [
    "sorted(arr)\n",
    "arr"
   ]
  },
  {
   "cell_type": "code",
   "execution_count": 12,
   "id": "bee55090-8434-4c87-b21a-0b5e6e49a75c",
   "metadata": {},
   "outputs": [
    {
     "data": {
      "text/plain": [
       "[1, 2, 3, 4, 5]"
      ]
     },
     "execution_count": 12,
     "metadata": {},
     "output_type": "execute_result"
    }
   ],
   "source": [
    "arr=sorted(arr)\n",
    "arr"
   ]
  },
  {
   "cell_type": "code",
   "execution_count": 13,
   "id": "b52b564c-99a8-4276-9461-ffe67f3757e8",
   "metadata": {},
   "outputs": [
    {
     "name": "stdout",
     "output_type": "stream",
     "text": [
      "false\n",
      "false\n",
      "false\n",
      "false\n",
      "true\n"
     ]
    }
   ],
   "source": [
    "arr=array('i',[1,4,2,3,5])\n",
    "for i in arr:\n",
    "    if(i==5):\n",
    "        print('true')\n",
    "    else:\n",
    "        print('false')\n",
    "        \n",
    "    \n",
    "    "
   ]
  },
  {
   "cell_type": "markdown",
   "id": "66f5c53c-b7e3-420d-9b0c-3fd92602744b",
   "metadata": {},
   "source": [
    "write a function 'search' that two arrugements\n",
    "1. elements to search\n",
    "2. array\n",
    "3. if element exists print true or else false\n"
   ]
  },
  {
   "cell_type": "code",
   "execution_count": 14,
   "id": "f56c3ce3-2331-4fd5-9109-c61612a542b6",
   "metadata": {},
   "outputs": [],
   "source": [
    "def search(el,arr):\n",
    "    ar=array('i',[1,4,2,3,5])\n",
    "    \n",
    "    if el in arr:\n",
    "        return True\n",
    "    else:\n",
    "        return False\n",
    "\n"
   ]
  },
  {
   "cell_type": "code",
   "execution_count": null,
   "id": "2a556924-d70a-4e75-93af-07d750eb12e6",
   "metadata": {},
   "outputs": [],
   "source": [
    "def missing(n,arr):\n",
    "    act_sum=(n*(n+1))/2\n",
    "    print(\"Actual sum is \",act_sum)\n",
    "    gn_sum=sum(arr)\n",
    "    print(\"sum of the given array\",gn_sum)\n",
    "    print(act_sum-gn_sum)"
   ]
  },
  {
   "cell_type": "code",
   "execution_count": null,
   "id": "01e9afb6-00d5-4e34-88ed-0da1399bd52e",
   "metadata": {},
   "outputs": [],
   "source": [
    "from array import array"
   ]
  },
  {
   "cell_type": "code",
   "execution_count": 1,
   "id": "711c5450-9877-4cf5-80a0-d9b2c7768aca",
   "metadata": {},
   "outputs": [],
   "source": [
    "def missing(n,arr):\n",
    "    act_sum=(n*(n+1))/2\n",
    "    print(\"Actual sum is \",act_sum)\n",
    "    gn_sum=sum(arr)\n",
    "    print(\"sum of the given array\",gn_sum)\n",
    "    print(act_sum-gn_sum)"
   ]
  },
  {
   "cell_type": "code",
   "execution_count": 2,
   "id": "1514b5e7-b34e-492c-90b7-ea9b26cea700",
   "metadata": {},
   "outputs": [
    {
     "ename": "NameError",
     "evalue": "name 'array' is not defined",
     "output_type": "error",
     "traceback": [
      "\u001b[1;31m---------------------------------------------------------------------------\u001b[0m",
      "\u001b[1;31mNameError\u001b[0m                                 Traceback (most recent call last)",
      "Cell \u001b[1;32mIn[2], line 1\u001b[0m\n\u001b[1;32m----> 1\u001b[0m arr\u001b[38;5;241m=\u001b[39marray(\u001b[38;5;124m'\u001b[39m\u001b[38;5;124mi\u001b[39m\u001b[38;5;124m'\u001b[39m,[\u001b[38;5;241m1\u001b[39m,\u001b[38;5;241m3\u001b[39m,\u001b[38;5;241m4\u001b[39m,\u001b[38;5;241m5\u001b[39m,\u001b[38;5;241m6\u001b[39m])\n\u001b[0;32m      2\u001b[0m missing(\u001b[38;5;241m6\u001b[39m,arr)\n",
      "\u001b[1;31mNameError\u001b[0m: name 'array' is not defined"
     ]
    }
   ],
   "source": [
    "arr=array('i',[1,3,4,5,6])\n",
    "missing(6,arr)"
   ]
  },
  {
   "cell_type": "code",
   "execution_count": null,
   "id": "6685b216-7c23-4adc-9cf7-b2851cb8c99c",
   "metadata": {},
   "outputs": [],
   "source": []
  }
 ],
 "metadata": {
  "kernelspec": {
   "display_name": "Python 3 (ipykernel)",
   "language": "python",
   "name": "python3"
  },
  "language_info": {
   "codemirror_mode": {
    "name": "ipython",
    "version": 3
   },
   "file_extension": ".py",
   "mimetype": "text/x-python",
   "name": "python",
   "nbconvert_exporter": "python",
   "pygments_lexer": "ipython3",
   "version": "3.11.7"
  }
 },
 "nbformat": 4,
 "nbformat_minor": 5
}
