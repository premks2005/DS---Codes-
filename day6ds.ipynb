{
 "cells": [
  {
   "cell_type": "code",
   "execution_count": 25,
   "id": "25d15e1d-8999-4964-bfde-e2f49bbe53d8",
   "metadata": {},
   "outputs": [],
   "source": [
    "class MyTree:\n",
    "    class Treenode:\n",
    "        def __init__(self,data):\n",
    "            self.data = data \n",
    "            self.left = None \n",
    "            self.right = None\n",
    "    def __init__(self):\n",
    "        self.root = None\n",
    "    def insert(self,data):\n",
    "        new_node = MyTree.Treenode(data)\n",
    "        if self.root == None:\n",
    "            self.root = new_node \n",
    "            return\n",
    "        current = self.root\n",
    "        while True:\n",
    "            if data < current.data:\n",
    "                if current.left is None:\n",
    "                    current.left = new_node\n",
    "                    break\n",
    "                else:\n",
    "                    current = current.left\n",
    "            else:\n",
    "                if current.right is None:\n",
    "                    current.right = new_node\n",
    "                    print(\"node is inserted\")\n",
    "                    break\n",
    "                else:\n",
    "                    current = current.right\n",
    "    def search(self,val):\n",
    "        current = self.root\n",
    "        while current:\n",
    "            if current.data == val:\n",
    "                return True \n",
    "                break\n",
    "            elif val <current.data:\n",
    "                current = current.left\n",
    "            else:\n",
    "                current = current.right\n",
    "        return False \n",
    "    def in_order_traversal(self,node):\n",
    "        if node:\n",
    "            self.in_order_traversal(node.left)\n",
    "            print(node.data,end ='   ')\n",
    "            self.in_order_traversal(node.right)\n",
    "    def pre_order_traversal(self,node):\n",
    "        if node:\n",
    "            print(node.data,end ='   ')\n",
    "            self.pre_order_traversal(node.left)\n",
    "            self.pre_order_traversal(node.right)\n",
    "    def post_order_traversal(self,node):\n",
    "        if node: \n",
    "            self.post_order_traversal(node.left)\n",
    "            self.post_order_traversal(node.right)\n",
    "            print(node.data,end ='  ')\n",
    "    \n",
    "    \n",
    "       \n",
    "\n"
   ]
  },
  {
   "cell_type": "code",
   "execution_count": 32,
   "id": "55f00006-26ab-468d-8863-a27dbafaf00a",
   "metadata": {},
   "outputs": [],
   "source": [
    "ll=MyTree()\n",
    "ll.insert(88)\n",
    "ll.insert(70)\n",
    "ll.insert(52)"
   ]
  },
  {
   "cell_type": "code",
   "execution_count": 35,
   "id": "6538e48c-061c-405d-9120-4fbcd39b5903",
   "metadata": {},
   "outputs": [
    {
     "data": {
      "text/plain": [
       "True"
      ]
     },
     "execution_count": 35,
     "metadata": {},
     "output_type": "execute_result"
    }
   ],
   "source": [
    "ll.search(70)"
   ]
  },
  {
   "cell_type": "code",
   "execution_count": 36,
   "id": "f13388f0-961e-47b1-8fc7-93264472c0a4",
   "metadata": {},
   "outputs": [
    {
     "data": {
      "text/plain": [
       "False"
      ]
     },
     "execution_count": 36,
     "metadata": {},
     "output_type": "execute_result"
    }
   ],
   "source": [
    "ll.search(15)"
   ]
  },
  {
   "cell_type": "code",
   "execution_count": 37,
   "id": "dd7cf03e-41fe-4d98-b315-19146dc0aead",
   "metadata": {},
   "outputs": [
    {
     "name": "stdout",
     "output_type": "stream",
     "text": [
      "52   70   88   "
     ]
    }
   ],
   "source": [
    "ll.in_order_traversal(ll.root)"
   ]
  },
  {
   "cell_type": "code",
   "execution_count": 38,
   "id": "4070b1cc-6cd9-43e2-a684-19c2537e1655",
   "metadata": {},
   "outputs": [
    {
     "name": "stdout",
     "output_type": "stream",
     "text": [
      "88   70   52   "
     ]
    }
   ],
   "source": [
    "ll.pre_order_traversal(ll.root)"
   ]
  },
  {
   "cell_type": "code",
   "execution_count": 39,
   "id": "12bdfadd-b286-4462-ac98-b2a15659973d",
   "metadata": {},
   "outputs": [
    {
     "name": "stdout",
     "output_type": "stream",
     "text": [
      "52  70  88  "
     ]
    }
   ],
   "source": [
    "ll.post_order_traversal(ll.root)"
   ]
  },
  {
   "cell_type": "code",
   "execution_count": null,
   "id": "6c8fbf08-a885-477d-95d0-426d39ea3ba8",
   "metadata": {},
   "outputs": [],
   "source": []
  }
 ],
 "metadata": {
  "kernelspec": {
   "display_name": "Python 3 (ipykernel)",
   "language": "python",
   "name": "python3"
  },
  "language_info": {
   "codemirror_mode": {
    "name": "ipython",
    "version": 3
   },
   "file_extension": ".py",
   "mimetype": "text/x-python",
   "name": "python",
   "nbconvert_exporter": "python",
   "pygments_lexer": "ipython3",
   "version": "3.11.7"
  }
 },
 "nbformat": 4,
 "nbformat_minor": 5
}
