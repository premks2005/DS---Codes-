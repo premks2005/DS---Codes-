{
 "cells": [
  {
   "cell_type": "code",
   "execution_count": 15,
   "id": "0b1dd8d7-3b9f-4f40-bc40-cd1ff3cab071",
   "metadata": {},
   "outputs": [],
   "source": [
    "def __init__(self,data):\n",
    "            self.data = data\n",
    "            self.next = None"
   ]
  },
  {
   "cell_type": "code",
   "execution_count": null,
   "id": "51132021-abcd-45ff-8b67-7dca7df9f477",
   "metadata": {},
   "outputs": [],
   "source": [
    "def insertbe(self,data):\n",
    "        new_node =MyLL.mynodes(data)\n",
    "        new_node.next = self.head\n",
    "        self.head = new_node"
   ]
  },
  {
   "cell_type": "code",
   "execution_count": null,
   "id": "f873d3c8-e7a5-41e3-8282-a9c16e93d637",
   "metadata": {},
   "outputs": [],
   "source": [
    "def insertend(self,data):\n",
    "        new_node = MyLL.mynodes(data)\n",
    "        if self.head == None:\n",
    "            self.head = new_node\n",
    "        return\n",
    "        current = self.head\n",
    "        while current.next:\n",
    "            current = current.next\n",
    "        current.next = new_node"
   ]
  },
  {
   "cell_type": "code",
   "execution_count": 12,
   "id": "db674405-abb7-4d21-8078-6c3c204b90aa",
   "metadata": {},
   "outputs": [],
   "source": [
    "class MyLL:\n",
    "    class mynodes:\n",
    "        def __init__(self,data):\n",
    "            self.data = data\n",
    "            self.next = None\n",
    "    def __init__(self):\n",
    "        self.head = None\n",
    "    def insertbe(self,data):\n",
    "        new_node =MyLL.mynodes(data)\n",
    "        new_node.next = self.head\n",
    "        self.head = new_node\n",
    "    def insertend(self,data):\n",
    "        new_node = MyLL.mynodes(data)\n",
    "        if self.head == None:\n",
    "            self.head = new_node\n",
    "        return\n",
    "        current = self.head\n",
    "        while current.next:\n",
    "            current = current.next\n",
    "        current.next = new_node\n",
    "    def insertaft(self,data,prev_node):\n",
    "        new_node = MyLL.mynodes(data)\n",
    "        new_node.next = prev_node.next\n",
    "        prev_node.next = new_node\n",
    "    def print_LL(self):\n",
    "        current = self.head\n",
    "        while current:\n",
    "            print(current.data, end = '-->')\n",
    "            current = current.next\n",
    "    def search(self,val):\n",
    "        current = self.head\n",
    "        while current:\n",
    "            if current.data == val:\n",
    "                return True\n",
    "            current = current.next\n",
    "        return False\n",
    "    def deletefirst(self):\n",
    "        self.head = self.head.next\n",
    "    def deleteend(self):\n",
    "        if self.head == None:\n",
    "            return\n",
    "        current = self.head\n",
    "        while current.next.next!=None:\n",
    "            current = current.next\n",
    "        current.next = None\n",
    "    def del_by_val(self,x):\n",
    "        if self.head.data == x:\n",
    "            self.head = self.head.next\n",
    "        current = self.head\n",
    "        while current.next:\n",
    "            if current.next.data!=x:\n",
    "                current = current.next\n",
    "            else:\n",
    "                break\n",
    "        if current.next:\n",
    "            current.next = current.next.next\n",
    "        else:\n",
    "            return \"not found\"\n",
    " \n",
    "            "
   ]
  },
  {
   "cell_type": "code",
   "execution_count": null,
   "id": "680c6771-23ca-4c91-877a-5c8bee095666",
   "metadata": {},
   "outputs": [],
   "source": []
  },
  {
   "cell_type": "code",
   "execution_count": 14,
   "id": "63494bc1-c861-4439-8479-f688dac3f695",
   "metadata": {},
   "outputs": [
    {
     "name": "stdout",
     "output_type": "stream",
     "text": [
      "20-->"
     ]
    }
   ],
   "source": [
    "\n",
    "ll = MyLL()\n",
    "ll.insertbe(10)\n",
    "ll.insertbe(20)\n",
    "ll.insertbe(30)\n",
    "ll.deletefirst()\n",
    "ll.deleteend()\n",
    "ll.print_LL()\n",
    "\n"
   ]
  },
  {
   "cell_type": "code",
   "execution_count": null,
   "id": "5c8a3aab-524d-4206-bdab-e8a72c4201a2",
   "metadata": {},
   "outputs": [],
   "source": []
  },
  {
   "cell_type": "code",
   "execution_count": null,
   "id": "ae647102-d5c2-40ce-8dde-e24571824ab0",
   "metadata": {},
   "outputs": [],
   "source": []
  }
 ],
 "metadata": {
  "kernelspec": {
   "display_name": "Python 3 (ipykernel)",
   "language": "python",
   "name": "python3"
  },
  "language_info": {
   "codemirror_mode": {
    "name": "ipython",
    "version": 3
   },
   "file_extension": ".py",
   "mimetype": "text/x-python",
   "name": "python",
   "nbconvert_exporter": "python",
   "pygments_lexer": "ipython3",
   "version": "3.11.7"
  }
 },
 "nbformat": 4,
 "nbformat_minor": 5
}
