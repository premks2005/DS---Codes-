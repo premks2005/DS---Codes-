{
 "cells": [
  {
   "cell_type": "code",
   "execution_count": 1,
   "id": "d1681102-a559-456e-831e-e858c5a77650",
   "metadata": {},
   "outputs": [],
   "source": [
    "def rats(r,unit,arr):\n",
    "    if len(arr) == 0:\n",
    "       return -1\n",
    "    foodreq = r*unit\n",
    "    foodsofar = 0\n",
    "    for i in range(len(arr)):\n",
    "        foodsofar = foodsofar +arr[i]\n",
    "        if foodsofar>=foodreq:\n",
    "            print(i+1)\n",
    "            break\n",
    "    return 0"
   ]
  },
  {
   "cell_type": "code",
   "execution_count": 2,
   "id": "6db21afb-30fb-4009-8f2a-a018d9c5469e",
   "metadata": {},
   "outputs": [
    {
     "name": "stdout",
     "output_type": "stream",
     "text": [
      "4\n"
     ]
    },
    {
     "data": {
      "text/plain": [
       "0"
      ]
     },
     "execution_count": 2,
     "metadata": {},
     "output_type": "execute_result"
    }
   ],
   "source": [
    "arr = [10,15,20,5]\n",
    "rats(5,10,arr)"
   ]
  },
  {
   "cell_type": "code",
   "execution_count": 5,
   "id": "4d072577-9176-451c-bd20-00767f2e8639",
   "metadata": {},
   "outputs": [
    {
     "name": "stdin",
     "output_type": "stream",
     "text": [
      "enter a number: 20\n"
     ]
    },
    {
     "name": "stdout",
     "output_type": "stream",
     "text": [
      "1\n",
      "2\n",
      "4\n",
      "5\n",
      "10\n"
     ]
    }
   ],
   "source": [
    "def factors(num):\n",
    "    for i in range(1,(num//2)+1):\n",
    "        if num%i==0:\n",
    "            print(i)\n",
    "num = int(input(\"enter a number:\"))\n",
    "factors(num)"
   ]
  },
  {
   "cell_type": "code",
   "execution_count": null,
   "id": "25dc8379-5aca-4831-a099-0f9a8c940f2a",
   "metadata": {},
   "outputs": [],
   "source": []
  }
 ],
 "metadata": {
  "kernelspec": {
   "display_name": "Python 3 (ipykernel)",
   "language": "python",
   "name": "python3"
  },
  "language_info": {
   "codemirror_mode": {
    "name": "ipython",
    "version": 3
   },
   "file_extension": ".py",
   "mimetype": "text/x-python",
   "name": "python",
   "nbconvert_exporter": "python",
   "pygments_lexer": "ipython3",
   "version": "3.11.7"
  }
 },
 "nbformat": 4,
 "nbformat_minor": 5
}
