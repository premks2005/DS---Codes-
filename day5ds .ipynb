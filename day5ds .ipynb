{
 "cells": [
  {
   "cell_type": "markdown",
   "id": "fc394294-f88c-427e-b237-94bae9e1cc24",
   "metadata": {},
   "source": [
    "create a class called 'Myqueue' which can handle 1.Enqueue  2.dequeue  3.Is empty   4.Display"
   ]
  },
  {
   "cell_type": "code",
   "execution_count": 37,
   "id": "fffd43d2-f73a-4a4e-b799-c76a9dfbf12b",
   "metadata": {},
   "outputs": [],
   "source": [
    "class Queue:\n",
    "    def __init__(self):\n",
    "        self.queue = []\n",
    "        \n",
    "    def enqueue(self, data):\n",
    "        self.queue.append(data)\n",
    "        \n",
    "    def dequeue(self):\n",
    "        if len(self.queue)==0:\n",
    "            print(\"empty queue ,can't dequeue any element\")\n",
    "            return\n",
    "        self.queue.pop(0)\n",
    "    def is_empty(self):\n",
    "        if len(self.queue)==0:\n",
    "            return True\n",
    "        else:\n",
    "            return False\n",
    "    def print(self):\n",
    "        for i in self.queue:\n",
    "            print(i, end =\"<--\")\n",
    "\n"
   ]
  },
  {
   "cell_type": "code",
   "execution_count": null,
   "id": "e159a71b-4225-4d69-8080-82d1a4170400",
   "metadata": {},
   "outputs": [],
   "source": []
  },
  {
   "cell_type": "code",
   "execution_count": 38,
   "id": "13f4e6e8-6747-451d-9f7e-3a1caefdcdcd",
   "metadata": {},
   "outputs": [],
   "source": [
    "q = Queue()\n",
    "q.enqueue(10)\n",
    "q.enqueue(20)\n",
    "q.enqueue(30)\n",
    "q.enqueue(40)"
   ]
  },
  {
   "cell_type": "code",
   "execution_count": 39,
   "id": "7491f266-120f-48a7-8d07-035db67f8049",
   "metadata": {},
   "outputs": [],
   "source": [
    "q.dequeue()"
   ]
  },
  {
   "cell_type": "code",
   "execution_count": 40,
   "id": "ebf622aa-4c63-4b05-9468-42b86ad6b330",
   "metadata": {},
   "outputs": [
    {
     "name": "stdout",
     "output_type": "stream",
     "text": [
      "False\n"
     ]
    }
   ],
   "source": [
    "print(q.is_empty())"
   ]
  },
  {
   "cell_type": "code",
   "execution_count": 41,
   "id": "92958477-8ad4-45b0-a283-96406d7d6611",
   "metadata": {},
   "outputs": [
    {
     "name": "stdout",
     "output_type": "stream",
     "text": [
      "20<--30<--40<--"
     ]
    }
   ],
   "source": [
    "q.print()"
   ]
  },
  {
   "cell_type": "code",
   "execution_count": 54,
   "id": "94505b0d-7d7f-4f2b-801e-d9b6564bf0d8",
   "metadata": {},
   "outputs": [],
   "source": [
    "def sum_e_o(arr):\n",
    "    even = []\n",
    "    odd = []\n",
    "    for i in range(len(arr)):\n",
    "        if i%2 == 0:\n",
    "            even .append(arr[i])\n",
    "        else:\n",
    "            odd.append(arr[i])\n",
    "    even.sort(reverse = True)\n",
    "    odd.sort()\n",
    "    print(even[1]+odd[1])"
   ]
  },
  {
   "cell_type": "code",
   "execution_count": 55,
   "id": "5da5aeda-f12c-4f10-9a1c-0ca674f1b9ca",
   "metadata": {},
   "outputs": [
    {
     "name": "stdout",
     "output_type": "stream",
     "text": [
      "8\n"
     ]
    }
   ],
   "source": [
    "arr = [5,8,2,3,6,3]\n",
    "sum_e_o(arr)"
   ]
  },
  {
   "cell_type": "markdown",
   "id": "962d3386-f4d9-4bd2-9607-39836fee07a2",
   "metadata": {},
   "source": [
    "#circular queue implementation with fixed size"
   ]
  },
  {
   "cell_type": "markdown",
   "id": "6b816e0d-717d-4c9f-942c-5279ed09561a",
   "metadata": {},
   "source": [
    "1. Intialize\n",
    "    - size\n",
    "    - Front pointer(exit)\n",
    "    - Rear Pointer(entry)\n",
    "    - Queue(list)\n",
    "2. Enqueue\n",
    "    - Queue is full (rear+1 == front)\n",
    "    - first element (rear = front = 0), then append\n",
    "    - Entering anywhere except at the beginning (rear = rear+1%size), then append\n",
    "3. Dequeue\n",
    "4. - Rear = front =-1(queue emoty)\n",
    "   - Rear = front(only one element remains)(pop it by moving the front & rear to -1)\n",
    "   - Dequeue the element pointed by front pointer(front means first element)&increament from pointer\n",
    "   - Dequeue = moving the front pointer to next value"
   ]
  },
  {
   "cell_type": "code",
   "execution_count": 2,
   "id": "f5e664bd-4451-44db-bc97-5cabb7cedff5",
   "metadata": {},
   "outputs": [],
   "source": [
    "class circularQ:\n",
    "    def __init__(self,size):\n",
    "        self.size = size\n",
    "        self.front = self.rear =-1\n",
    "        self.queue = [None]*size]\n",
    "    def enqueue(self,data):\n",
    "        if(self.rear+1)%self.size == self.front:\n",
    "            print(\"Queue is full\")\n",
    "        elif self.front == -1:\n",
    "            self.front = self.rear = 0\n",
    "            self.queue[self.rear] = data\n",
    "        else:\n",
    "            self.rear = (self.rear+1)%self.size\n",
    "            self.queue[self.rear] = data\n",
    "    def dequeue(self):\n",
    "        if self.front == -1:\n",
    "            print (\"Queue is empty\")\n",
    "            popped = self.queue[self.front]\n",
    "        elif self.front == self.rear:\n",
    "            self.front = self.rear = -1\n",
    "        else:\n",
    "            popped = self.queue[self.front]\n",
    "            self.front = (self.front+1)%self.size\n",
    "            return popped\n",
    "    def display(self):\n",
    "            if self.front == -1:\n",
    "                print(\"Queue is empty\")\n",
    "                return\n",
    "            i = self.front\n",
    "            while True:\n",
    "                print(self.queue[self.front])\n",
    "                if i == self.rear:\n",
    "                    break\n",
    "                i = (i+1)%self.size\n",
    "            \n",
    "            "
   ]
  },
  {
   "cell_type": "code",
   "execution_count": 3,
   "id": "bf83fa59-a4f6-4f1c-b7f7-6fda599e3d1c",
   "metadata": {},
   "outputs": [
    {
     "name": "stdout",
     "output_type": "stream",
     "text": [
      "Queue is full\n",
      "Queue is empty\n"
     ]
    }
   ],
   "source": [
    "q = circularQ(2)\n",
    "q.enqueue(10)\n",
    "q.enqueue(20)\n",
    "q.enqueue(30)\n",
    "q.dequeue()\n",
    "q.dequeue()\n",
    "q.dequeue()"
   ]
  },
  {
   "cell_type": "code",
   "execution_count": 7,
   "id": "53cfd5e3-4b0f-42d2-9df3-adc95dcc706c",
   "metadata": {},
   "outputs": [
    {
     "name": "stdout",
     "output_type": "stream",
     "text": [
      "99\n",
      "99\n",
      "99\n",
      "99\n"
     ]
    }
   ],
   "source": [
    "q = circularQ(4)\n",
    "q.enqueue(99)\n",
    "q.enqueue(55)\n",
    "q.enqueue(77)\n",
    "q.enqueue(88)\n",
    "q.display()\n"
   ]
  },
  {
   "cell_type": "markdown",
   "id": "11ab856d-3f61-4f18-8087-4672a1f82414",
   "metadata": {},
   "source": [
    "def difference of sum(n,m).\n",
    "the function accepts two integers n,m as arguments find the sum of all numbers in range from 1 to m (both inclusive) that are not divisible by n \n",
    "return difference between sum of integers not divisible by n with sum of numbers divisible by \n",
    " - n.input n= 4,=20\n",
    " - output : 90(4+8+12+16+20 = 60(1+2+3+5+6+7+9+10+11+13+14+15+17+18+19 = 150) (150-60 = 90)"
   ]
  },
  {
   "cell_type": "code",
   "execution_count": 13,
   "id": "d53338bf-f942-4b68-abd2-d7ca5d88145f",
   "metadata": {},
   "outputs": [
    {
     "name": "stdout",
     "output_type": "stream",
     "text": [
      "90\n"
     ]
    }
   ],
   "source": [
    "def differenceofsum(n,m):\n",
    "    divisible_sum = 0\n",
    "    non_divisible_sum = 0\n",
    "    for i in range(m+1):\n",
    "        if i%n==0:\n",
    "            divisible_sum+=i\n",
    "        else:\n",
    "            non_divisible_sum+=i\n",
    "    return non_divisible_sum-divisible_sum\n",
    "print(differenceofsum(4,20))"
   ]
  },
  {
   "cell_type": "markdown",
   "id": "e8913658-e236-4c08-9012-831955edcdec",
   "metadata": {},
   "source": [
    " you are given a function\n",
    " - check password(char,n);\n",
    " - the function accepts string str of size n as argument implement the function which returns 1 if given string is valid password else 0.\n",
    " - str is a valid password if it  satisfy the below conditions\n",
    " - at list 4 characters\n",
    " - at least one numeric digit\n",
    " - at least one capital letter\n",
    " - must not have space or slash(/)\n",
    " - starting character must not be a number"
   ]
  },
  {
   "cell_type": "code",
   "execution_count": 5,
   "id": "48e8e146-7c01-4abe-847c-c4c9ea9bf87a",
   "metadata": {},
   "outputs": [],
   "source": [
    "def checkPassword(str):\n",
    "    valid = False\n",
    "    if len(str)<4:\n",
    "        return 0\n",
    "    for i in str:\n",
    "        if i.isdigit():\n",
    "            valid = True \n",
    "            break\n",
    "    if valid==False:\n",
    "        return 0 \n",
    "    valid = False\n",
    "    for i in str:\n",
    "        if i.isupper():\n",
    "            valid = True \n",
    "            break\n",
    "    if valid==False:\n",
    "        return 0\n",
    "    for i in str:\n",
    "        if i==\"\" or i==\"/\":\n",
    "            return 0\n",
    "    if str[0].isdigit():\n",
    "        return 0 \n",
    "    return 1\n",
    "pwd = input(\"enter password\")\n",
    "print(checkpassword(pwd))"
   ]
  },
  {
   "cell_type": "code",
   "execution_count": null,
   "id": "252c90c4-26b0-42ee-9ce1-cb63f62f2808",
   "metadata": {},
   "outputs": [],
   "source": []
  }
 ],
 "metadata": {
  "kernelspec": {
   "display_name": "Python 3 (ipykernel)",
   "language": "python",
   "name": "python3"
  },
  "language_info": {
   "codemirror_mode": {
    "name": "ipython",
    "version": 3
   },
   "file_extension": ".py",
   "mimetype": "text/x-python",
   "name": "python",
   "nbconvert_exporter": "python",
   "pygments_lexer": "ipython3",
   "version": "3.11.7"
  }
 },
 "nbformat": 4,
 "nbformat_minor": 5
}
